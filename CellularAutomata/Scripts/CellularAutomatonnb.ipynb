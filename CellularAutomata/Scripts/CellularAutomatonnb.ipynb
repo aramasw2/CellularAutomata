{
 "cells": [
  {
   "cell_type": "code",
   "execution_count": 1,
   "id": "b1d6504a-bf15-4c4e-8331-f97d1cf6b17f",
   "metadata": {},
   "outputs": [],
   "source": [
    "import CellularAutomatonClass as cp\n",
    "import rulesets as rs\n",
    "\n",
    "#ca = cp.CellularAutomaton(width=100, height=100,initst = \"Random\", rule_function=cp.singlenearestrandom_exchange, boundary=\"open\")"
   ]
  },
  {
   "cell_type": "code",
   "execution_count": 11,
   "id": "9e8c36c3-e092-4af6-b2a7-56ae972012e9",
   "metadata": {},
   "outputs": [
    {
     "data": {
      "image/png": "[encoded data removed]",
      "text/plain": [
       "<Figure size 640x480 with 1 Axes>"
      ]
     },
     "metadata": {},
     "output_type": "display_data"
    }
   ],
   "source": [
    "import matplotlib.pyplot as plt\n",
    "ca = cp.CellularAutomaton(width=100, height=100,initst = \"random_state\", rule_function=\"game_of_life\", boundary=\"open\")\n",
    "ca.initialize()\n",
    "#ca.run_animation(interval=100, frames=100, save=True, savename=\"cellular_automaton.mp4\")\n",
    "ani=ca.run(steps=100, animate=False, interval=100, save=False, filename=\"GameofLife.mp4\")\n",
    "#display(ret)\n",
    "ca.display()  # Show final state after 10 steps\n"
   ]
  },
  {
   "cell_type": "code",
   "execution_count": 10,
   "id": "0bd91d59-23df-4af4-bc74-84e0d817c11a",
   "metadata": {},
   "outputs": [
    {
     "data": {
      "text/plain": [
       "2.250611291895776"
      ]
     },
     "metadata": {},
     "output_type": "display_data"
    },
    {
     "data": {
      "text/plain": [
       "1.9080373628571379"
      ]
     },
     "metadata": {},
     "output_type": "display_data"
    },
    {
     "data": {
      "text/plain": [
       "1.6123281741729185"
      ]
     },
     "metadata": {},
     "output_type": "display_data"
    }
   ],
   "source": [
    "display(ca.current_entropy())\n",
    "display(ca.average_entropy())\n",
    "display(ca.average_mutualinformation())"
   ]
  },
  {
   "cell_type": "code",
   "execution_count": null,
   "id": "76471431-a8ca-4c70-a7ff-19731f536b16",
   "metadata": {},
   "outputs": [],
   "source": [
    "plt.close()\n",
    "\n",
    "state=np.zeros((100,100)) #Intialize 100x100 lattice for lattice gas automata\n",
    "state[0:100,50:100]=1\n",
    "\n",
    "#nsweep_list=np.arange(0,10000,10)\n",
    "#ArrayEntropic=np.array([compute_entropy(state,nx) for nx in nsweep_list])\n",
    "\n",
    "plt.plot(nsweep_list, ArrayEntropic)\n",
    "plt.xlabel(\"Sweeps\")\n",
    "plt.ylabel(\"Number of compressed bits\")\n",
    "plt.title(\"Compressibility of cellular automata dynamics\")\n",
    "plt.savefig('myplot.jpg', format='jpeg', dpi=300)\n",
    "plt.show()"
   ]
  },
  {
   "cell_type": "code",
   "execution_count": null,
   "id": "c3e255ad-a042-43e1-b402-9e9198bb605b",
   "metadata": {},
   "outputs": [],
   "source": []
  }
 ],
 "metadata": {
  "kernelspec": {
   "display_name": "Python 3 (ipykernel)",
   "language": "python",
   "name": "python3"
  },
  "language_info": {
   "codemirror_mode": {
    "name": "ipython",
    "version": 3
   },
   "file_extension": ".py",
   "mimetype": "text/x-python",
   "name": "python",
   "nbconvert_exporter": "python",
   "pygments_lexer": "ipython3",
   "version": "3.11.5"
  }
 },
 "nbformat": 4,
 "nbformat_minor": 5
}
